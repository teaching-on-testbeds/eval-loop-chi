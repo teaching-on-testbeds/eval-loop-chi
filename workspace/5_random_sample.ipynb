{
 "cells": [
  {
   "cell_type": "markdown",
   "metadata": {},
   "source": [
    "### Label random sample of production images\n",
    "\n",
    "We had previously configured Label Studio so that human annotators would be asked to label *all* images in the production bucket. (Any time we “Sync storage” in Label Studio, new images in the production bucket are added as tasks in Label Studio.)\n",
    "\n",
    "Of course, for a large scale production service, this is impractical.\n",
    "\n",
    "Let’s set up a new project in Label Studio, in which only a small (random) sample of production images are selected for labeling."
   ]
  },
  {
   "cell_type": "markdown",
   "metadata": {},
   "source": [
    "This time, we will use the Label Studio API to automate the setup of the new project and tasks."
   ]
  },
  {
   "cell_type": "code",
   "execution_count": null,
   "metadata": {},
   "outputs": [],
   "source": [
    "# runs inside Jupyter container on node-eval-loop\n",
    "import requests\n",
    "import boto3 \n",
    "import os\n",
    "import random"
   ]
  },
  {
   "cell_type": "code",
   "execution_count": null,
   "metadata": {},
   "outputs": [],
   "source": [
    "# runs inside Jupyter container on node-eval-loop\n",
    "LABEL_STUDIO_URL = os.environ['LABEL_STUDIO_URL']\n",
    "LABEL_STUDIO_TOKEN = os.environ['LABEL_STUDIO_USER_TOKEN']"
   ]
  },
  {
   "cell_type": "code",
   "execution_count": null,
   "metadata": {},
   "outputs": [],
   "source": [
    "# runs inside Jupyter container on node-eval-loop\n",
    "LABEL_CONFIG = \"\"\"\n",
    "<View>\n",
    "  <Image name=\"image\" value=\"$image\" maxWidth=\"500px\"/>\n",
    "  <Choices name=\"label\" toName=\"image\" choice=\"single\" showInLine=\"true\" >\n",
    "    <Choice value=\"Bread\"/>\n",
    "    <Choice value=\"Dairy product\"/>\n",
    "    <Choice value=\"Dessert\"/>\n",
    "    <Choice value=\"Egg\"/>\n",
    "    <Choice value=\"Fried food\"/>\n",
    "    <Choice value=\"Meat\"/>\n",
    "    <Choice value=\"Noodles/Pasta\"/>\n",
    "    <Choice value=\"Rice\"/>\n",
    "    <Choice value=\"Seafood\"/>\n",
    "    <Choice value=\"Soup\"/>\n",
    "    <Choice value=\"Vegetable/Fruit\"/>\n",
    "  </Choices>\n",
    "</View>\n",
    "\"\"\""
   ]
  },
  {
   "cell_type": "code",
   "execution_count": null,
   "metadata": {},
   "outputs": [],
   "source": [
    "# runs inside Jupyter container on node-eval-loop\n",
    "headers = {\"Authorization\": f\"Token {LABEL_STUDIO_TOKEN}\"}\n",
    "\n",
    "# configure a project - set up its name and the appearance of the labeling interface\n",
    "project_config = {\n",
    "    \"title\": \"Food11 Random Sample\",\n",
    "    \"label_config\": LABEL_CONFIG\n",
    "}\n",
    "\n",
    "# send it to Label Studio API\n",
    "res = requests.post(f\"{LABEL_STUDIO_URL}/api/projects\", json=project_config, headers=headers)\n",
    "if res.status_code == 201:\n",
    "    PROJECT_ID = res.json()['id']\n",
    "    print(f\"Created new project: Food11 Random Sample (ID {PROJECT_ID})\")\n",
    "else:\n",
    "    raise Exception(\"Failed to create project:\", res.text)"
   ]
  },
  {
   "cell_type": "markdown",
   "metadata": {},
   "source": [
    "Now, if we visit the Label Studio UI, we should see our “Food11 Random Sample” project. However, it has no labeling tasks in it. We can create those via API as well."
   ]
  },
  {
   "cell_type": "markdown",
   "metadata": {},
   "source": [
    "Let’s authenticate to MinIO:"
   ]
  },
  {
   "cell_type": "code",
   "execution_count": null,
   "metadata": {},
   "outputs": [],
   "source": [
    "# runs inside Jupyter container on node-eval-loop\n",
    "MINIO_URL = os.environ['MINIO_URL']\n",
    "MINIO_ACCESS_KEY = os.environ['MINIO_USER']\n",
    "MINIO_SECRET_KEY = os.environ['MINIO_PASSWORD']\n",
    "BUCKET_NAME = \"production\"\n",
    "SAMPLE_SIZE = 3  # Number of images to sample"
   ]
  },
  {
   "cell_type": "code",
   "execution_count": null,
   "metadata": {},
   "outputs": [],
   "source": [
    "# runs inside Jupyter container on node-eval-loop\n",
    "# note: we need to use the public IP of the MinIO service, not the hostname on the internal Docker network\n",
    "# because we will use this S3 client to generate \"pre-signed URLs\" for images that we will label in Label Studio\n",
    "# and these URLs must work in our own browser - outside of the Docker network\n",
    "public_ip = requests.get(\"http://169.254.169.254/latest/meta-data/public-ipv4\").text.strip()\n",
    "s3 = boto3.client(\n",
    "    \"s3\",\n",
    "    endpoint_url=f\"http://{public_ip}:9000\",\n",
    "    aws_access_key_id=MINIO_ACCESS_KEY,\n",
    "    aws_secret_access_key=MINIO_SECRET_KEY,\n",
    "    region_name=\"us-east-1\"\n",
    ")"
   ]
  },
  {
   "cell_type": "markdown",
   "metadata": {},
   "source": [
    "get a list of objects in the “production” bucket, and randomly sample some:"
   ]
  },
  {
   "cell_type": "code",
   "execution_count": null,
   "metadata": {},
   "outputs": [],
   "source": [
    "# runs inside Jupyter container on node-eval-loop\n",
    "all_keys = []\n",
    "paginator = s3.get_paginator(\"list_objects_v2\")\n",
    "for page in paginator.paginate(Bucket=BUCKET_NAME):\n",
    "    for obj in page.get(\"Contents\", []):\n",
    "        all_keys.append(obj[\"Key\"])\n",
    "\n",
    "sampled_keys = random.sample(all_keys, min(SAMPLE_SIZE, len(all_keys)))"
   ]
  },
  {
   "cell_type": "markdown",
   "metadata": {},
   "source": [
    "and then, send those as tasks to Label Studio:"
   ]
  },
  {
   "cell_type": "code",
   "execution_count": null,
   "metadata": {},
   "outputs": [],
   "source": [
    "# runs inside Jupyter container on node-eval-loop\n",
    "# generate a URL for each object we want to label, so that the annotator can view the image from their browser\n",
    "tasks = []\n",
    "for key in sampled_keys:\n",
    "    presigned_url = s3.generate_presigned_url(\n",
    "        'get_object',\n",
    "        Params={'Bucket': BUCKET_NAME, 'Key': key},\n",
    "        ExpiresIn=3600\n",
    "    )\n",
    "    # and add to the list of tasks\n",
    "    tasks.append({\"data\": {\"image\": presigned_url}, \"meta\": {\"original_key\": key}})\n",
    "\n",
    "# then, send the lists of tasks to the Label Studio project\n",
    "res = requests.post(\n",
    "    f\"{LABEL_STUDIO_URL}/api/projects/{PROJECT_ID}/import\",\n",
    "    json=tasks,\n",
    "    headers=headers\n",
    ")\n",
    "if res.status_code == 201:\n",
    "    print(f\"Imported {len(tasks)} tasks into project {PROJECT_ID}\")\n",
    "else:\n",
    "    raise Exception(\"Failed to import tasks:\", res.text)"
   ]
  },
  {
   "cell_type": "markdown",
   "metadata": {},
   "source": [
    "Now, we should see these tasks in the Label Studio UI, under the “Food11 Random Sample” project.\n",
    "\n",
    "Complete the tasks in the “Food11 Random Sample” project (i.e. label the images). Then, take a screenshot of the “Food11 Random Sample” project dashboard, showing the list of images, the confidence of the model, and the first letters of your name next to each image in the “Annotated by” column."
   ]
  },
  {
   "cell_type": "markdown",
   "metadata": {},
   "source": [
    "This random sampling process could be automated, e.g. on a schedule as part of a continuous monitoring and re-training pipeline.\n",
    "\n",
    "Although we won’t do it right now, it would also be reasonable to re-organize the data based on the new labels after annotation - if an image was originally placed in the “class_01” directory but the human label is class 3, it could be moved automatically to “class_03” to facilitate re-training on the production data."
   ]
  },
  {
   "cell_type": "markdown",
   "metadata": {},
   "source": [
    "If we did automate this process, though, we would want to make sure to only sample from new production images that were not available as of the last random draw, so we might filter on the “timestamp” key first, like this:"
   ]
  },
  {
   "cell_type": "code",
   "execution_count": null,
   "metadata": {},
   "outputs": [],
   "source": [
    "# runs inside Jupyter container on node-eval-loop\n",
    "from datetime import datetime, timezone, timedelta\n",
    "\n",
    "all_keys = []\n",
    "recent_time_threshold = datetime.now(timezone.utc) - timedelta(hours=12) # try changing this to see the effect!\n",
    "\n",
    "paginator = s3.get_paginator(\"list_objects_v2\")\n",
    "for page in paginator.paginate(Bucket=BUCKET_NAME):\n",
    "    for obj in page.get(\"Contents\", []):\n",
    "        key = obj[\"Key\"]\n",
    "        tags = s3.get_object_tagging(Bucket=BUCKET_NAME, Key=key)['TagSet']\n",
    "        tag_dict = {t['Key']: t['Value'] for t in tags}\n",
    "        timestamp_str = tag_dict.get(\"timestamp\")\n",
    "        if timestamp_str:\n",
    "            ts = datetime.fromisoformat(timestamp_str)\n",
    "            if ts > recent_time_threshold:\n",
    "                all_keys.append(key)"
   ]
  },
  {
   "cell_type": "markdown",
   "metadata": {},
   "source": [
    "The approach above - filtering by timestamp tag - works at a small to moderate scale. At a larger scale, though, it would be impractical because getting the list of tags to sample from requires many API calls to get individual object tags. To scale this up, we might:\n",
    "\n",
    "-   move data between a “raw production data” bucket and a “processed production data bucket” on a schedule, so that you only need to draw samples from a smaller bucket\n",
    "-   and/or save metadata about production samples externally (e.g. in a database or a [table](https://iceberg.apache.org/)), so we can query metadata more efficiently"
   ]
  }
 ],
 "nbformat": 4,
 "nbformat_minor": 4,
 "metadata": {
  "kernelspec": {
   "name": "python3",
   "display_name": "Python 3 (ipykernel)",
   "language": "python"
  },
  "language_info": {
   "name": "python",
   "codemirror_mode": {
    "name": "ipython",
    "version": "3"
   },
   "file_extension": ".py",
   "mimetype": "text/x-python"
  }
 }
}
