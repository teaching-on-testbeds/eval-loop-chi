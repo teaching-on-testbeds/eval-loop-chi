{
 "cells": [
  {
   "cell_type": "markdown",
   "metadata": {},
   "source": [
    "### Label low-confidence production images\n",
    "\n",
    "In the previous section, we used uniform random sampling to select production images for human annotation. In practice, however, we may want to preferentially label samples for which the model has low confidence. Combined with random sampling, this is a powerful strategy because:\n",
    "\n",
    "-   We can create a high-quality but small evaluation set using randomly sampled production images\n",
    "-   and in parallel, create a lower quality but large-volume re-training set, using model-labeled production images for which the confidence is high (assuming the model labeled them correctly) along with human-labeled production images for which the confidence is low"
   ]
  },
  {
   "cell_type": "markdown",
   "metadata": {},
   "source": [
    "We will use the Label Studio API to automate the setup of a new project and tasks."
   ]
  },
  {
   "cell_type": "code",
   "execution_count": null,
   "metadata": {},
   "outputs": [],
   "source": [
    "# runs inside Jupyter container on node-eval-loop\n",
    "import requests\n",
    "import boto3 \n",
    "import os\n",
    "import random"
   ]
  },
  {
   "cell_type": "code",
   "execution_count": null,
   "metadata": {},
   "outputs": [],
   "source": [
    "# runs inside Jupyter container on node-eval-loop\n",
    "LABEL_STUDIO_URL = os.environ['LABEL_STUDIO_URL']\n",
    "LABEL_STUDIO_TOKEN = os.environ['LABEL_STUDIO_USER_TOKEN']"
   ]
  },
  {
   "cell_type": "markdown",
   "metadata": {},
   "source": [
    "For this project, our labeling UI will be slightly different - we are going to also display the model’s predicted class and confidence in its prediction:"
   ]
  },
  {
   "cell_type": "code",
   "execution_count": null,
   "metadata": {},
   "outputs": [],
   "source": [
    "# runs inside Jupyter container on node-eval-loop\n",
    "LABEL_CONFIG = \"\"\"\n",
    "<View>\n",
    "  <Image name=\"image\" value=\"$image\" maxWidth=\"500px\"/>\n",
    "  <Choices name=\"label\" toName=\"image\" choice=\"single\" showInLine=\"true\" >\n",
    "    <Choice value=\"Bread\"/>\n",
    "    <Choice value=\"Dairy product\"/>\n",
    "    <Choice value=\"Dessert\"/>\n",
    "    <Choice value=\"Egg\"/>\n",
    "    <Choice value=\"Fried food\"/>\n",
    "    <Choice value=\"Meat\"/>\n",
    "    <Choice value=\"Noodles/Pasta\"/>\n",
    "    <Choice value=\"Rice\"/>\n",
    "    <Choice value=\"Seafood\"/>\n",
    "    <Choice value=\"Soup\"/>\n",
    "    <Choice value=\"Vegetable/Fruit\"/>\n",
    "  </Choices>\n",
    "  <Header value=\"Model Confidence: $confidence\"/>\n",
    "  <Header value=\"Predicted Class: $predicted_class\"/>\n",
    "</View>\n",
    "\"\"\""
   ]
  },
  {
   "cell_type": "code",
   "execution_count": null,
   "metadata": {},
   "outputs": [],
   "source": [
    "# runs inside Jupyter container on node-eval-loop\n",
    "headers = {\"Authorization\": f\"Token {LABEL_STUDIO_TOKEN}\"}\n",
    "project_config = {\n",
    "    \"title\": \"Food11 Low Confidence\",\n",
    "    \"label_config\": LABEL_CONFIG\n",
    "}\n",
    "res = requests.post(f\"{LABEL_STUDIO_URL}/api/projects\", json=project_config, headers=headers)\n",
    "if res.status_code == 201:\n",
    "    PROJECT_ID = res.json()['id']\n",
    "    print(f\"Created new project: Food11 Low Confidence (ID {PROJECT_ID})\")\n",
    "else:\n",
    "    raise Exception(\"Failed to create project:\", res.text)"
   ]
  },
  {
   "cell_type": "markdown",
   "metadata": {},
   "source": [
    "Now, if we visit the Label Studio UI, we should see our “Food11 Low Confidence” project. However, it has no labeling tasks in it. We will create those via API as well."
   ]
  },
  {
   "cell_type": "markdown",
   "metadata": {},
   "source": [
    "Let’s authenticate to MinIO:"
   ]
  },
  {
   "cell_type": "code",
   "execution_count": null,
   "metadata": {},
   "outputs": [],
   "source": [
    "# runs inside Jupyter container on node-eval-loop\n",
    "MINIO_URL = os.environ['MINIO_URL']\n",
    "MINIO_ACCESS_KEY = os.environ['MINIO_USER']\n",
    "MINIO_SECRET_KEY = os.environ['MINIO_PASSWORD']\n",
    "BUCKET_NAME = \"production\""
   ]
  },
  {
   "cell_type": "code",
   "execution_count": null,
   "metadata": {},
   "outputs": [],
   "source": [
    "# runs inside Jupyter container on node-eval-loop\n",
    "# note: we need to use the public IP of the MinIO service, not the hostname on the internal Docker network\n",
    "# because we will use this S3 client to generate \"pre-signed URLs\" for images that we will label in Label Studio\n",
    "# and these URLs must work in our own browser - outside of the Docker network\n",
    "public_ip = requests.get(\"http://169.254.169.254/latest/meta-data/public-ipv4\").text.strip()\n",
    "s3 = boto3.client(\n",
    "    \"s3\",\n",
    "    endpoint_url=f\"http://{public_ip}:9000\",\n",
    "    aws_access_key_id=MINIO_ACCESS_KEY,\n",
    "    aws_secret_access_key=MINIO_SECRET_KEY,\n",
    "    region_name=\"us-east-1\"\n",
    ")"
   ]
  },
  {
   "cell_type": "markdown",
   "metadata": {},
   "source": [
    "Now, we’ll get a list of objects in the “production” bucket that are:\n",
    "\n",
    "-   recent (new since we last added labeling tasks, assuming this is a scheduled process)\n",
    "-   and have low confidence"
   ]
  },
  {
   "cell_type": "code",
   "execution_count": null,
   "metadata": {},
   "outputs": [],
   "source": [
    "# runs inside Jupyter container on node-eval-loop\n",
    "from datetime import datetime, timezone, timedelta\n",
    "\n",
    "all_keys = []\n",
    "recent_time_threshold = datetime.now(timezone.utc) - timedelta(hours=12)  \n",
    "low_confidence_threshold = 0.7  # adjust threshold as needed so you get some samples!\n",
    "\n",
    "paginator = s3.get_paginator(\"list_objects_v2\")\n",
    "for page in paginator.paginate(Bucket=BUCKET_NAME):\n",
    "    for obj in page.get(\"Contents\", []):\n",
    "        key = obj[\"Key\"]\n",
    "        tags = s3.get_object_tagging(Bucket=BUCKET_NAME, Key=key)['TagSet']\n",
    "        tag_dict = {t['Key']: t['Value'] for t in tags}\n",
    "        timestamp_str = tag_dict.get(\"timestamp\")\n",
    "        predicted_class = tag_dict.get(\"predicted_class\", \"\")\n",
    "        confidence_str = tag_dict.get(\"confidence\")\n",
    "        if timestamp_str and confidence_str:\n",
    "            ts = datetime.fromisoformat(timestamp_str)\n",
    "            confidence = float(confidence_str)\n",
    "            if ts > recent_time_threshold and confidence < low_confidence_threshold:\n",
    "                all_keys.append({\n",
    "                    \"key\": key,\n",
    "                    \"confidence\": confidence_str,\n",
    "                    \"predicted_class\": predicted_class\n",
    "                })"
   ]
  },
  {
   "cell_type": "markdown",
   "metadata": {},
   "source": [
    "If you don’t have any samples with “low confidence”, adjust the threshold below until you have a couple:"
   ]
  },
  {
   "cell_type": "code",
   "execution_count": null,
   "metadata": {},
   "outputs": [],
   "source": [
    "# runs inside Jupyter container on node-eval-loop\n",
    "all_keys"
   ]
  },
  {
   "cell_type": "markdown",
   "metadata": {},
   "source": [
    "Depending on scale, we may label all of these, or a random sample of them. Here we will set up a task to label all.\n",
    "\n",
    "Note that each “task” includes:\n",
    "\n",
    "-   the presigned URL for the image in the MinIO object store\n",
    "-   the predicted class according to our model\n",
    "-   and its confidence\n",
    "\n",
    "and these will be visible to the human annotator."
   ]
  },
  {
   "cell_type": "code",
   "execution_count": null,
   "metadata": {},
   "outputs": [],
   "source": [
    "# runs inside Jupyter container on node-eval-loop\n",
    "tasks = []\n",
    "for item in all_keys:\n",
    "    key = item[\"key\"]\n",
    "    confidence = item[\"confidence\"]\n",
    "    predicted_class = item[\"predicted_class\"]\n",
    "\n",
    "    presigned_url = s3.generate_presigned_url(\n",
    "        'get_object',\n",
    "        Params={'Bucket': BUCKET_NAME, 'Key': key},\n",
    "        ExpiresIn=3600\n",
    "    )\n",
    "    tasks.append({\n",
    "        \"data\": {\n",
    "            \"image\": presigned_url,\n",
    "            \"confidence\": confidence,\n",
    "            \"predicted_class\": predicted_class\n",
    "        },\n",
    "        \"meta\": {\"original_key\": key}\n",
    "    })\n",
    "\n",
    "res = requests.post(\n",
    "    f\"{LABEL_STUDIO_URL}/api/projects/{PROJECT_ID}/import\",\n",
    "    json=tasks,\n",
    "    headers=headers\n",
    ")\n",
    "if res.status_code == 201:\n",
    "    print(f\"Imported {len(tasks)} tasks into project {PROJECT_ID}\")\n",
    "else:\n",
    "    raise Exception(\"Failed to import tasks:\", res.text)"
   ]
  },
  {
   "cell_type": "markdown",
   "metadata": {},
   "source": [
    "In the Label Studio UI, validate that you can see the tasks in the “Food11 Low Confidence” project. The project overview will also now include “confidence” and “predicted class” columns, and you can sort and filter on these columns.\n",
    "\n",
    "Complete the tasks in the “Food11 Low Confidence” project (i.e. label the images). Then, take a screenshot of the “Food11 Low Confidence” project dashboard, showing the list of images, the confidence of the model, and the first letters of your name next to each image in the “Annotated by” column."
   ]
  }
 ],
 "nbformat": 4,
 "nbformat_minor": 4,
 "metadata": {
  "kernelspec": {
   "name": "python3",
   "display_name": "Python 3 (ipykernel)",
   "language": "python"
  },
  "language_info": {
   "name": "python",
   "codemirror_mode": {
    "name": "ipython",
    "version": "3"
   },
   "file_extension": ".py",
   "mimetype": "text/x-python"
  }
 }
}
